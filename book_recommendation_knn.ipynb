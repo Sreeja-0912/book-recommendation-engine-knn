{
 "cells": [
  {
   "cell_type": "code",
   "execution_count": null,
   "id": "6b0ebc44",
   "metadata": {},
   "outputs": [],
   "source": [
    "import pandas as pd\n",
    "from sklearn.neighbors import NearestNeighbors\n",
    "from scipy.sparse import csr_matrix\n"
   ]
  },
  {
   "cell_type": "code",
   "execution_count": null,
   "id": "bedc1a51",
   "metadata": {},
   "outputs": [],
   "source": [
    "# Dataset is assumed to be provided in the runtime environment as stated\n",
    "books = pd.read_csv(\"books.csv\")\n",
    "ratings = pd.read_csv(\"ratings.csv\")\n",
    "users = pd.read_csv(\"users.csv\")\n"
   ]
  },
  {
   "cell_type": "code",
   "execution_count": null,
   "id": "7e7393ad",
   "metadata": {},
   "outputs": [],
   "source": [
    "# Filter out users with < 200 ratings and books with < 100 ratings\n",
    "user_counts = ratings['User-ID'].value_counts()\n",
    "book_counts = ratings['ISBN'].value_counts()\n",
    "\n",
    "ratings = ratings[ratings['User-ID'].isin(user_counts[user_counts >= 200].index)]\n",
    "ratings = ratings[ratings['ISBN'].isin(book_counts[book_counts >= 100].index)]\n",
    "\n",
    "# Merge ratings with books for title information\n",
    "ratings_with_titles = ratings.merge(books, on='ISBN')\n",
    "pivot = ratings_with_titles.pivot_table(index='Book-Title', columns='User-ID', values='Book-Rating').fillna(0)\n",
    "matrix = csr_matrix(pivot.values)\n"
   ]
  },
  {
   "cell_type": "code",
   "execution_count": null,
   "id": "f49f07ae",
   "metadata": {},
   "outputs": [],
   "source": [
    "model = NearestNeighbors(metric='cosine', algorithm='brute')\n",
    "model.fit(matrix)\n",
    "book_titles = list(pivot.index)\n"
   ]
  },
  {
   "cell_type": "code",
   "execution_count": null,
   "id": "6b941f2d",
   "metadata": {},
   "outputs": [],
   "source": [
    "def get_recommends(book_title: str):\n",
    "    if book_title not in pivot.index:\n",
    "        return [book_title, []]\n",
    "\n",
    "    book_index = pivot.index.get_loc(book_title)\n",
    "    distances, indices = model.kneighbors([pivot.iloc[book_index].values], n_neighbors=6)\n",
    "    recommendations = []\n",
    "\n",
    "    for i in range(1, len(distances[0])):\n",
    "        rec_title = book_titles[indices[0][i]]\n",
    "        rec_dist = distances[0][i]\n",
    "        recommendations.append([rec_title, rec_dist])\n",
    "\n",
    "    return [book_title, recommendations]\n"
   ]
  },
  {
   "cell_type": "code",
   "execution_count": null,
   "id": "23d1880a",
   "metadata": {},
   "outputs": [],
   "source": [
    "get_recommends(\"The Queen of the Damned (Vampire Chronicles (Paperback))\")\n"
   ]
  }
 ],
 "metadata": {},
 "nbformat": 4,
 "nbformat_minor": 5
}
